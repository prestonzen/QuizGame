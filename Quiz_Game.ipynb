{
  "nbformat": 4,
  "nbformat_minor": 0,
  "metadata": {
    "colab": {
      "provenance": [],
      "authorship_tag": "ABX9TyM93+4VRmKU7GvatcPJFxoZ",
      "include_colab_link": true
    },
    "kernelspec": {
      "name": "python3",
      "display_name": "Python 3"
    },
    "language_info": {
      "name": "python"
    }
  },
  "cells": [
    {
      "cell_type": "markdown",
      "metadata": {
        "id": "view-in-github",
        "colab_type": "text"
      },
      "source": [
        "<a href=\"https://colab.research.google.com/github/prestonzen/QuizGame/blob/main/Quiz_Game.ipynb\" target=\"_parent\"><img src=\"https://colab.research.google.com/assets/colab-badge.svg\" alt=\"Open In Colab\"/></a>"
      ]
    },
    {
      "cell_type": "code",
      "execution_count": null,
      "metadata": {
        "colab": {
          "base_uri": "https://localhost:8080/"
        },
        "id": "B24proKKL2oE",
        "outputId": "0727f805-0ab7-47bf-f889-14dd99d1f222"
      },
      "outputs": [
        {
          "output_type": "stream",
          "name": "stdout",
          "text": [
            "Requirement already satisfied: requests in /usr/local/lib/python3.10/dist-packages (2.31.0)\n",
            "Requirement already satisfied: charset-normalizer<4,>=2 in /usr/local/lib/python3.10/dist-packages (from requests) (3.3.2)\n",
            "Requirement already satisfied: idna<4,>=2.5 in /usr/local/lib/python3.10/dist-packages (from requests) (3.6)\n",
            "Requirement already satisfied: urllib3<3,>=1.21.1 in /usr/local/lib/python3.10/dist-packages (from requests) (2.0.7)\n",
            "Requirement already satisfied: certifi>=2017.4.17 in /usr/local/lib/python3.10/dist-packages (from requests) (2023.11.17)\n"
          ]
        }
      ],
      "source": [
        "!pip install requests"
      ]
    },
    {
      "cell_type": "code",
      "source": [
        "import requests\n",
        "import html\n",
        "\n",
        "def get_questions():\n",
        "    response = requests.get('https://the-trivia-api.com/v2/questions')\n",
        "    if response.status_code == 200:\n",
        "        return response.json()\n",
        "    else:\n",
        "        print('Failed to retrieve questions.')\n",
        "        return []\n",
        "\n",
        "def play_quiz():\n",
        "    questions = get_questions()\n",
        "    score = 0\n",
        "\n",
        "    for i, question_data in enumerate(questions):\n",
        "        question = html.unescape(question_data['question'])\n",
        "        correct_answer = html.unescape(question_data['correctAnswer'])\n",
        "        options = [html.unescape(ans) for ans in question_data['incorrectAnswers']]\n",
        "        options.append(correct_answer)\n",
        "        options.sort()\n",
        "\n",
        "        print(f\"Q{i+1}: {question}\")\n",
        "        for idx, option in enumerate(options):\n",
        "            print(f\"{idx+1}. {option}\")\n",
        "\n",
        "        user_answer = input(\"Your answer (number): \")\n",
        "        if options[int(user_answer) - 1] == correct_answer:\n",
        "            print(\"Correct!\")\n",
        "            score += 1\n",
        "        else:\n",
        "            print(\"Wrong! Correct answer:\", correct_answer)\n",
        "\n",
        "        print()\n",
        "\n",
        "    print(\"Quiz Completed. Your Score:\", score)\n",
        "\n",
        "if __name__ == \"__main__\":\n",
        "    play_quiz()"
      ],
      "metadata": {
        "colab": {
          "base_uri": "https://localhost:8080/"
        },
        "id": "EJx30m8EL7_p",
        "outputId": "365453aa-e1a5-4e9c-ae0e-b04c9e05ea6b"
      },
      "execution_count": null,
      "outputs": [
        {
          "output_type": "stream",
          "name": "stdout",
          "text": [
            "Q1: {'text': 'The painting \"Starry Night\" by Vincent van Gogh is a part of which art movement?'}\n",
            "1. Abstract expressionism\n",
            "2. Cubism\n",
            "3. Post-Impressionism\n",
            "4. Ukiyo-e\n",
            "Your answer (number): 3\n",
            "Correct!\n",
            "\n",
            "Q2: {'text': \"In Sabrina The Teenage Witch What Is The Name Of Sabrina's Cat?\"}\n",
            "1. Alexandria\n",
            "2. Greensboro\n",
            "3. Salem\n",
            "4. Wilmington\n",
            "Your answer (number): 2\n",
            "Wrong! Correct answer: Salem\n",
            "\n",
            "Q3: {'text': 'In which country would you find the UNESCO World Heritage site of Al-Hijr Archaeological Site?'}\n",
            "1. Israel\n",
            "2. Mexico\n",
            "3. Saudi Arabia\n",
            "4. Thailand\n"
          ]
        }
      ]
    }
  ]
}